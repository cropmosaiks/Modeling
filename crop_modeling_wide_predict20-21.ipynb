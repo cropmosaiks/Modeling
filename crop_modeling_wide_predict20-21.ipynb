{
 "cells": [
  {
   "cell_type": "markdown",
   "id": "0fe56655",
   "metadata": {},
   "source": [
    "# Modeling Crop Yield\n",
    "## Python modules"
   ]
  },
  {
   "cell_type": "code",
   "execution_count": null,
   "id": "5b4f19f5",
   "metadata": {},
   "outputs": [],
   "source": [
    "import warnings\n",
    "import time\n",
    "import os\n",
    "\n",
    "import numpy as np\n",
    "import pandas as pd\n",
    "import matplotlib.pyplot as plt\n",
    "import matplotlib.pyplot as plt\n",
    "import matplotlib.colors as colors\n",
    "\n",
    "import geopandas\n",
    "\n",
    "import pyarrow\n",
    "from sklearn.linear_model import RidgeCV\n",
    "from sklearn.model_selection import train_test_split\n",
    "from sklearn.metrics import r2_score\n",
    "from sklearn.metrics import mean_squared_error\n",
    "from sklearn.impute import SimpleImputer\n",
    "from scipy.stats import spearmanr\n",
    "from scipy.linalg import LinAlgWarning\n",
    "from scipy.stats import pearsonr\n",
    "\n",
    "import math\n",
    "import seaborn as sns"
   ]
  },
  {
   "cell_type": "markdown",
   "id": "bd2f0e8f",
   "metadata": {},
   "source": [
    "## Parameters\n",
    "#### Choose a satellite.\n",
    "\n",
    "For a description of the Landsat 8 mission, see the US Geological metadata [here.]()\n",
    "\n",
    "For a description of the Sentinel 2 mission, see the US Geological metadata [here.]()"
   ]
  },
  {
   "cell_type": "code",
   "execution_count": null,
   "id": "cb13001c",
   "metadata": {},
   "outputs": [],
   "source": [
    "# satellite = \"landsat-8-c2-l2\"\n",
    "satellite = \"sentinel-2-l2a\""
   ]
  },
  {
   "cell_type": "markdown",
   "id": "ed1ab70e",
   "metadata": {},
   "source": [
    "#### Choose band combination.\n",
    "\n",
    "For a description of **Landsat** bands, see the [US Geological Survey documentation here.](https://www.usgs.gov/faqs/what-are-band-designations-landsat-satellites)\n",
    "\n",
    "For a description of **Sentinel bands**, see the [US Geological Survey documentation here.](https://www.usgs.gov/centers/eros/science/usgs-eros-archive-sentinel-2#:~:text=4%20bands%20at%2010%20meter,%2Dinfrared%20(842%20nm)\n",
    "\n",
    "According to our results, bands **(insert band selection here)** result in the best model performance for Landsat, and **(insert band selection here)** result in the best model performance for Sentinel for the task of predicting maize yields in Zambia."
   ]
  },
  {
   "cell_type": "code",
   "execution_count": null,
   "id": "6155e23e",
   "metadata": {},
   "outputs": [],
   "source": [
    "# bands = \"2-3-4\"\n",
    "bands = \"2-3-4-8\"\n",
    "# bands = \"1-2-3-4-5-6-7\"\n",
    "# bands = \"2-3-4-5-6-7\""
   ]
  },
  {
   "cell_type": "markdown",
   "id": "a52ecb9d",
   "metadata": {},
   "source": [
    "#### Choose the number of points that were featurized.\n",
    "\n",
    "Each value in the following chunk represents the amount of thousands of points that were featurized in each respective feature file. These points represent a uniform subset of the spatial grid of Zambia. Points are spaced at uniform intervals for each selection, measured in kilometers in the longitudinal direction for each set of features. The kilometer distance interval differs for each selection below; 42,000 points results in the smallest uniform distance between points, and 4,000 points results in the greatest uniform distance between points. Selecting a greater quantity of points results in a denser spatial sample, which increases computational cost and time, but increases the spatial resolution of the model. Regardless of the quantity of points selected, each point is buffered by the same distance, resulting in a 1km^2 cell around each point.\n",
    "\n",
    "These specific options point quantities is a result of uniformly increasing the distance between points in units of kilometers prior to matching satellite images to each point. These options represent the number of points that fall within the borders of Zambia, and the numbers have been rounded to the nearest thousandth for consistency in naming files. See the [CropMOSAIKS Featurization repository](https://github.com/cropmosaiks/Featurization) for more information regarding how these distances we calculated. "
   ]
  },
  {
   "cell_type": "code",
   "execution_count": null,
   "id": "6a903025",
   "metadata": {},
   "outputs": [],
   "source": [
    "# points = \"4\"\n",
    "points = \"15\"\n",
    "# points = \"24\"\n",
    "# points = \"42\""
   ]
  },
  {
   "cell_type": "markdown",
   "id": "5b135301",
   "metadata": {},
   "source": [
    "#### Choose to keep only areas with crops (`True`) or to keep all points (`False`)\n",
    "\n",
    "Selecting `True` applies a \"cropland mask\" to the spatial grid of Zambia. This retains only the regions of the country in which maize is  grown, according to the **(insert source here)**. As a result, the spatial extent of the features that are fed into the model are highly subset for the specific task at hand: modeling maize yields. According to our results, selecting `True` **(insert increases or decreases here)** model performance.\n",
    "\n",
    "Selecting `False` results in modeling with the maximum spatial extent of the features, with more generalized features as a result."
   ]
  },
  {
   "cell_type": "code",
   "execution_count": null,
   "id": "def9380e",
   "metadata": {},
   "outputs": [],
   "source": [
    "crop_mask = True\n",
    "#crop_mask = False"
   ]
  },
  {
   "cell_type": "markdown",
   "id": "8c15b7c5",
   "metadata": {},
   "source": [
    "#### Impute NA values by descending group levels (True) or `scikit learn`'s simple imputer (False)\n",
    "\n",
    "Imputing \"manually\" by descending group levels imputes NA values in multiple \"cascading\" steps, decreasing the proportion of inoutated values with each step. First, the NA values are imputed at by both `year` and `district`, which should yield imputed values that most closely match the feature values that would be present in the data if there was no clouds obscuring the satellite images. Next, the remaining NA values that could not be imputed by both `year` and `district` are imputed by only `district`. Lastly, the remaining NA vlaues that could not be imputed by both `year` and `district` or by just `district` are imputed by `year` only. This option gives the user more control and transparency over how the imputation is executed.\n",
    "\n",
    "Imputing using `scikit learn`'s simple imputer executes standard imputation, the details of which can be found in the `scikitlearn` documentation [here.](https://scikit-learn.org/stable/modules/generated/sklearn.impute.SimpleImputer.html)"
   ]
  },
  {
   "cell_type": "code",
   "execution_count": null,
   "id": "c9662e99",
   "metadata": {},
   "outputs": [],
   "source": [
    "#impute_manual = True\n",
    "impute_manual = False"
   ]
  },
  {
   "cell_type": "markdown",
   "id": "fede5fbb",
   "metadata": {},
   "source": [
    "Choose a weighted average (`True`) or a simple mean (`False`) to use when collapsing features to administrative boundary level."
   ]
  },
  {
   "cell_type": "code",
   "execution_count": null,
   "id": "fccb6992",
   "metadata": {},
   "outputs": [],
   "source": [
    "#weighted_avg = True\n",
    "weighted_avg = False"
   ]
  },
  {
   "cell_type": "markdown",
   "id": "aca0aad3",
   "metadata": {},
   "source": [
    "#### Choose which months to use in the model.\n",
    "\n",
    "Note that months 10, 11, and 12 get pushed to the next year because the growing season (November - May) spans the calendar year. Maize is planted in November, starts to change color with maturity in May, and is harvested in June - August. According to our results, subsetting the months to **(insert month selection here)** increases model performance."
   ]
  },
  {
   "cell_type": "code",
   "execution_count": null,
   "id": "4e1a5587",
   "metadata": {},
   "outputs": [],
   "source": [
    "month_range = [1, 2, 3, 4, 5, 6, 7, 8, 9, 10, 11, 12]\n",
    "# month_range = [      3, 4, 5, 6, 7, 8, 9            ]\n",
    "# month_range = [         4, 5, 6, 7, 8, 9            ]\n",
    "# month_range = [            5, 6, 7, 8, 9            ]\n",
    "# month_range = [         4, 5, 6, 7, 8               ]\n",
    "# month_range = [            5, 6, 7, 8               ]"
   ]
  },
  {
   "cell_type": "markdown",
   "id": "a06291c4",
   "metadata": {},
   "source": [
    "### Unchanging parmaters\n",
    "\n",
    "The parameters in the following chunk are set for the country of Zambia for with 1000 features, regardless of the satellite selected. The start years for each satellite reflect the respective years that Landsat 8 and Sentinel 2A missions began.\n",
    "\n",
    "The number of features is set to 1000 to serve as a staple parameter among the several other parameters varied during the model optimization process. Changing this parameter in the following code chunk will result in an error because featurizing landsat imagery for a different number of features was outside the scope of this project."
   ]
  },
  {
   "cell_type": "code",
   "execution_count": null,
   "id": "026f29eb",
   "metadata": {},
   "outputs": [],
   "source": [
    "country_code = \"ZMB\"\n",
    "num_features = 1000\n",
    "\n",
    "# # same start and end years because we need the same time ranges for both satellites.\n",
    "# year_start = 2015\n",
    "# year_end = 2021\n",
    "\n",
    "if satellite == \"landsat-8-c2-l2\":\n",
    "    year_start = 2013 # Landsat\n",
    "else:\n",
    "    year_start = 2015 # Sentinel\n",
    "year_end = 2018\n",
    "\n",
    "data_dir = f\"/capstone/cropmosaiks/data/\"\n",
    "feature_file_name = (f'{satellite}_bands-{bands}_{country_code}_{points}k-points_{num_features}-features')\n",
    "weight_file_name = (f'{country_code}_crop_weights_{points}k-points')\n",
    "\n",
    "if points == \"4\":\n",
    "    marker_sz = 60\n",
    "elif points == \"15\":\n",
    "    marker_sz = 15\n",
    "elif points == \"24\":\n",
    "    marker_sz = 10\n",
    "else:\n",
    "    marker_sz = 8"
   ]
  },
  {
   "cell_type": "markdown",
   "id": "aef6bb69",
   "metadata": {},
   "source": [
    "## Administrative boundaries \n",
    "\n",
    "Administrative boundaries reflect the **(insert number of districts in dataset)** district boundaries within the country of Zambia. A district can be likened to a state within the larger U.S.A. We subset the spatial grid to district level becuase the crop yield data is at the district level of specificity. The features are originally produced at higher spatial resolution, then summarized to the district level in order to train the model with ground-truth crop data. "
   ]
  },
  {
   "cell_type": "code",
   "execution_count": null,
   "id": "a28fd026",
   "metadata": {},
   "outputs": [],
   "source": [
    "country_shp = geopandas.read_file(f'{data_dir}/boundaries/gadm36_{country_code}_2.shp')\n",
    "country_shp = country_shp.rename(columns = {'NAME_2': 'district'})[['district', 'geometry']]\n",
    "country_shp.district = country_shp.district.replace(\"MPongwe\", 'Mpongwe', regex=True)\n",
    "country_districts = country_shp.district.sort_values().unique().tolist()\n",
    "country_shp = country_shp.set_index('district')\n",
    "country_shp.shape\n",
    "country_shp.plot(linewidth = 1, edgecolor = 'black' )\n",
    "# country_shp.plot()"
   ]
  },
  {
   "cell_type": "markdown",
   "id": "567ba4ec",
   "metadata": {},
   "source": [
    "## Crop yield\n",
    "\n",
    "Zambian maize yield data reflects the predicted annual maize yield provided by farmers in the month of May, when the maize matures and changes colors prior to harvest, which allows the farmers to estimate what their yield will be in the following months. These predictions are in units of metric tons per hectare and provide valuable insight to the Zambian government as they plan for the quanitites of food to import into the country in the future. For more metadata, see the websites for the [Central Statistics Office of Zambia (CSO)](https://www.zamstats.gov.zm/) and the [Summary statistics from CSO.](https://www.zamstats.gov.zm/agriculture-environment-statistics/)\n",
    "\n",
    "In order to standardize the names of all districts shared between the geoboundaries and the crop yield data, we correct for spelling, dashes, and apostrophes. \n"
   ]
  },
  {
   "cell_type": "code",
   "execution_count": null,
   "id": "f1cc9106",
   "metadata": {},
   "outputs": [],
   "source": [
    "crop_df = pd.read_csv(data_dir+'/crops/cfs_maize_districts_zambia_2009_2018.csv')\n",
    "crop_df.district = crop_df.district.replace(\n",
    "    {\"Itezhi-tezhi\": 'Itezhi-Tezhi',\n",
    "     \"Kapiri-Mposhi\": 'Kapiri Mposhi',\n",
    "     \"Shang'ombo\": 'Shangombo',\n",
    "     \"Chienge\": 'Chiengi'\n",
    "    }, regex=True)\n",
    "crop_districts = crop_df.district.sort_values().unique().tolist()\n",
    "crop_df = crop_df[['district', 'year', 'yield_mt']]\n",
    "ln = len(crop_df[crop_df.year == 2016].district)\n",
    "crop_df = crop_df.set_index('district')\n",
    "ln\n",
    "# crop_df"
   ]
  },
  {
   "cell_type": "code",
   "execution_count": null,
   "id": "f293d3b8",
   "metadata": {},
   "outputs": [],
   "source": [
    "list(set(crop_districts) - set(country_districts))"
   ]
  },
  {
   "cell_type": "code",
   "execution_count": null,
   "id": "e5c55cbe",
   "metadata": {},
   "outputs": [],
   "source": [
    "list(set(country_districts) - set(crop_districts))"
   ]
  },
  {
   "cell_type": "code",
   "execution_count": null,
   "id": "1bdc3c62",
   "metadata": {},
   "outputs": [],
   "source": [
    "country_crop = geopandas.GeoDataFrame(crop_df.join(country_shp), crs = country_shp.crs)"
   ]
  },
  {
   "cell_type": "markdown",
   "id": "5ace3e2f",
   "metadata": {},
   "source": [
    "## Crop land"
   ]
  },
  {
   "cell_type": "code",
   "execution_count": null,
   "id": "575c05e5",
   "metadata": {},
   "outputs": [],
   "source": [
    "weights = pd.read_feather(f\"{data_dir}/weights/{weight_file_name}.feather\")\n",
    "# weights"
   ]
  },
  {
   "cell_type": "code",
   "execution_count": null,
   "id": "6ee9d980",
   "metadata": {},
   "outputs": [],
   "source": [
    "weights_gdf = geopandas.GeoDataFrame(\n",
    "    weights, \n",
    "    geometry = geopandas.points_from_xy(x = weights.lon, y = weights.lat), \n",
    "    crs='EPSG:4326'\n",
    ")\n",
    "weights_gdf.plot(figsize = (10,10),\n",
    "                 cmap = 'inferno',\n",
    "                 markersize = marker_sz,\n",
    "                 alpha = .9,\n",
    "                 column = 'crop_perc')\n",
    "# plt.axis('off')"
   ]
  },
  {
   "cell_type": "code",
   "execution_count": null,
   "id": "f9aa0cfe",
   "metadata": {},
   "outputs": [],
   "source": [
    "weights.crop_perc = weights.crop_perc.fillna(0)\n",
    "# #weights.crop_perc = weights.crop_perc + 0.0001"
   ]
  },
  {
   "cell_type": "markdown",
   "id": "1caa5a1f",
   "metadata": {},
   "source": [
    "## Features\n",
    "\n",
    "Append annual features files together into one file: `features_raw`."
   ]
  },
  {
   "cell_type": "code",
   "execution_count": null,
   "id": "55409ca0",
   "metadata": {},
   "outputs": [],
   "source": [
    "features_raw = geopandas.GeoDataFrame()\n",
    "\n",
    "for yr in range(year_start, year_end + 1):\n",
    "    print(f\"Opening: {feature_file_name}_{yr}.feather\")\n",
    "    features_x = pd.read_feather(f\"{data_dir}/features/{satellite}/{feature_file_name}_{yr}.feather\")\n",
    "    \n",
    "    if (yr == 2013) & (satellite == \"landsat-8-c2-l2\"):\n",
    "        features_x = features_x[features_x.month > 9]\n",
    "    elif (yr == 2015) & (satellite == \"sentinel-2-l2a\"):\n",
    "        features_x = features_x[features_x.month > 9]\n",
    "    else:\n",
    "        pass\n",
    "    \n",
    "    # concatenate the feather files together, axis = 0 specifies to stack rows (rather than adding columns)\n",
    "    features_raw = pd.concat([features_raw, features_x], axis=0)\n",
    "    \n",
    "    print(\"feature.shape\", features_raw.shape)\n",
    "    print(\"Appending:\", yr)\n",
    "    print(\"\")\n",
    "    \n",
    "    \n"
   ]
  },
  {
   "cell_type": "code",
   "execution_count": null,
   "id": "ceb3f3f1",
   "metadata": {},
   "outputs": [],
   "source": [
    "features = features_raw.copy()"
   ]
  },
  {
   "cell_type": "code",
   "execution_count": null,
   "id": "2a8b4918",
   "metadata": {
    "tags": []
   },
   "outputs": [],
   "source": [
    "# carry months October, November, and December over to the following year's data\n",
    "# these months represent the start of the growing season for the following year's maize yield\n",
    "features['year'] = np.where(\n",
    "    features['month'].isin([10, 11, 12]),\n",
    "    features['year'] + 1, \n",
    "    features['year'])\n",
    "\n",
    "features = features[features['year'] <= year_end]\n",
    "\n",
    "features.sort_values(['year', 'month'], inplace=True)"
   ]
  },
  {
   "cell_type": "markdown",
   "id": "e8539a4a",
   "metadata": {},
   "source": [
    "### Filter month range"
   ]
  },
  {
   "cell_type": "code",
   "execution_count": null,
   "id": "a4b2d613",
   "metadata": {},
   "outputs": [],
   "source": [
    "# subset the features to only the month range selected at the top of the notebook\n",
    "features = features[features.month.isin(month_range)]"
   ]
  },
  {
   "cell_type": "markdown",
   "id": "554ff055",
   "metadata": {},
   "source": [
    "### Pivot wider\n",
    "Here we pivot the data from long format to wide by indexing on 'lon', 'lat', 'year', 'month' and using the unstack function. We then map column names based on the month index and the associated features so month '01' is appended to each feature for that month making 0_01, 1_01 etc. This results in a Tidy data structure, with each row representing an image, and each column representing a feature for a certain month."
   ]
  },
  {
   "cell_type": "code",
   "execution_count": null,
   "id": "0cac4697",
   "metadata": {},
   "outputs": [],
   "source": [
    "features = features.set_index(['lon','lat', \"year\", 'month']).unstack()\n",
    "features.columns = features.columns.map(lambda x: '{}_{}'.format(*x))"
   ]
  },
  {
   "cell_type": "markdown",
   "id": "35e9b16e",
   "metadata": {},
   "source": [
    "### Replace \"inf\" values with `NaN`\n",
    "\n",
    "Infinity values are the result of **(insert reason here)**. We replace them with `NaN` because **(insert reason here)**."
   ]
  },
  {
   "cell_type": "code",
   "execution_count": null,
   "id": "1845e697",
   "metadata": {},
   "outputs": [],
   "source": [
    "features.replace([np.inf, -np.inf], np.nan, inplace=True)\n",
    "features = features.reset_index()\n",
    "# features"
   ]
  },
  {
   "cell_type": "markdown",
   "id": "2a234a9c",
   "metadata": {},
   "source": [
    "### Attach crop weights\n",
    "Attach weight to each point (% area cropped of surrounding 1 km^2)."
   ]
  },
  {
   "cell_type": "code",
   "execution_count": null,
   "id": "9e42e177",
   "metadata": {},
   "outputs": [],
   "source": [
    "features = features.join(weights.set_index(['lon', 'lat']), on = ['lon', 'lat'])\n",
    "features = features.drop([\"geometry\"], axis = 1)\n",
    "# features"
   ]
  },
  {
   "cell_type": "code",
   "execution_count": null,
   "id": "058091f5-8bec-41d9-988f-5b2512cab6c6",
   "metadata": {},
   "outputs": [],
   "source": [
    "features"
   ]
  },
  {
   "cell_type": "markdown",
   "id": "2be3147c",
   "metadata": {},
   "source": [
    "### Mask croppped regions"
   ]
  },
  {
   "cell_type": "code",
   "execution_count": null,
   "id": "c9d65ec1",
   "metadata": {},
   "outputs": [],
   "source": [
    "# any 1 km^2 cell with a crop percentage > 0 will be retained\n",
    "# the mask will not be applied if crop_mask is set to False at the top of this notebook\n",
    "if crop_mask:\n",
    "    features = features[features.crop_perc > 0]\n",
    "else:\n",
    "    pass\n",
    "# features"
   ]
  },
  {
   "cell_type": "markdown",
   "id": "04c3acd3",
   "metadata": {},
   "source": [
    "### Make \"features\" a `GeoDataFrame`\n",
    "\n",
    "The coordinate reference system is set to EPSG 4326 - WGS 84, the latitude/longitude coordinate system based on the Earth's center of mass, used by the Global Positioning System."
   ]
  },
  {
   "cell_type": "code",
   "execution_count": null,
   "id": "dee1f8b2",
   "metadata": {},
   "outputs": [],
   "source": [
    "features = geopandas.GeoDataFrame(\n",
    "    features, \n",
    "    geometry = geopandas.points_from_xy(x = features.lon, y = features.lat), \n",
    "    crs='EPSG:4326'\n",
    ")"
   ]
  },
  {
   "cell_type": "markdown",
   "id": "490d6ff1",
   "metadata": {},
   "source": [
    "### Plot any single feature"
   ]
  },
  {
   "cell_type": "code",
   "execution_count": null,
   "id": "0f447f59",
   "metadata": {},
   "outputs": [],
   "source": [
    "# mn = 9\n",
    "# yr = 2017\n",
    "# feature = 999\n",
    "\n",
    "# features[features.year == yr].plot(\n",
    "#     column = f\"{feature}_{mn}\",\n",
    "#     figsize = (10,10),\n",
    "#     marker='H',\n",
    "#     # legend = True,\n",
    "#     markersize = marker_sz,\n",
    "# )"
   ]
  },
  {
   "cell_type": "markdown",
   "id": "bc66e85d",
   "metadata": {},
   "source": [
    "### Drop 'lat' and 'lon' columns"
   ]
  },
  {
   "cell_type": "code",
   "execution_count": null,
   "id": "94b47a12",
   "metadata": {},
   "outputs": [],
   "source": [
    "# Drop the redundant independent lon and lat columns now that they are in a geometry column\n",
    "features = features.drop(['lon', 'lat'], axis = 1)"
   ]
  },
  {
   "cell_type": "markdown",
   "id": "bd4c25e0",
   "metadata": {},
   "source": [
    "### Join features to country geometry"
   ]
  },
  {
   "cell_type": "code",
   "execution_count": null,
   "id": "c0fba002",
   "metadata": {},
   "outputs": [],
   "source": [
    "features = features.sjoin(country_shp, how = 'left', predicate = 'within')\n",
    "# features"
   ]
  },
  {
   "cell_type": "code",
   "execution_count": null,
   "id": "c7c217e1",
   "metadata": {},
   "outputs": [],
   "source": [
    "# na = features[adm_features.isna().any(axis = 1)]\n",
    "# na.plot(figsize = (10,10), markersize = 10)"
   ]
  },
  {
   "cell_type": "markdown",
   "id": "f3230ad6",
   "metadata": {},
   "source": [
    "### Correct column names and drop geometry"
   ]
  },
  {
   "cell_type": "code",
   "execution_count": null,
   "id": "84705c9a",
   "metadata": {},
   "outputs": [],
   "source": [
    "features = (\n",
    "    features\n",
    "    .dropna(subset=['index_right'])\n",
    "    .rename(columns = {\"index_right\": \"district\",})\n",
    "    .reset_index(drop = True)\n",
    ")\n",
    "points = features.copy()\n",
    "points = features[['geometry']]\n",
    "features = features.drop(['geometry'], axis = 1)\n",
    "#features"
   ]
  },
  {
   "cell_type": "code",
   "execution_count": null,
   "id": "ebd66b78-f933-4578-a403-0364aafc1fa6",
   "metadata": {},
   "outputs": [],
   "source": [
    "features"
   ]
  },
  {
   "cell_type": "markdown",
   "id": "ca644884",
   "metadata": {},
   "source": [
    "### Impute missing values\n",
    "\n",
    "Imputing \"manually\" by descending group levels imputes NA values in multiple \"cascading\" steps, decreasing the proportion of inoutated values with each step. First, the NA values are imputed at by both `year` and `district`, which should yield imputed values that most closely match the feature values that would be present in the data if there was no clouds obscuring the satellite images. Next, the remaining NA values that could not be imputed by both `year` and `district` are imputed by only `district`. Lastly, the remaining NA vlaues that could not be imputed by both `year` and `district` or by just `district` are imputed by `year` only. This option gives the user more control and transparency over how the imputation is executed.\n",
    "\n",
    "Imputing using `scikit learn`'s simple imputer executes standard imputation, the details of which can be found in the `scikitlearn` documentation [here.](https://scikit-learn.org/stable/modules/generated/sklearn.impute.SimpleImputer.html)\n",
    "\n",
    "The imputation approach depends on the selection made at the top of this notebook for `impute_manual`."
   ]
  },
  {
   "cell_type": "code",
   "execution_count": null,
   "id": "c1c9cfbb",
   "metadata": {
    "tags": []
   },
   "outputs": [],
   "source": [
    "# compute the number of cells in the features dataframe, based on the amount of rows (images), months, and feature columns\n",
    "num_cells = len(features) * len(month_range) * num_features"
   ]
  },
  {
   "cell_type": "code",
   "execution_count": null,
   "id": "d2cf981e",
   "metadata": {},
   "outputs": [],
   "source": [
    "%%time\n",
    "if impute_manual:\n",
    "    print(f'Starting with\\n{(features.isna().sum().sum() / num_cells)*100:.02f} % NA Values')\n",
    "    features = (\n",
    "        features\n",
    "        .fillna(features\n",
    "                .groupby(['year', 'district'], as_index=False)\n",
    "                .transform('mean')\n",
    "               )\n",
    "    )\n",
    "    print(f'\\nFilling NA values with year district group average\\n{(features.isna().sum().sum() / num_cells)*100:.02f} % NA Values')\n",
    "    features = (\n",
    "        features\n",
    "        .fillna(features\n",
    "                .groupby(['district'], as_index=False)\n",
    "                .transform('mean')\n",
    "               )\n",
    "    )\n",
    "    print(f'\\nFilling NA values with district group average\\n{(features.isna().sum().sum() / num_cells)*100:.02f} % NA Values')\n",
    "    features = (\n",
    "        features\n",
    "        .fillna(features\n",
    "                .groupby(['year'], as_index=False)\n",
    "                .transform('mean')\n",
    "               )\n",
    "    )\n",
    "    print(f'\\nFilling NA values with year group average\\n{(features.isna().sum().sum() / num_cells)*100:.02f} % NA Values')\n",
    "else:\n",
    "    features = features.set_index(['year', 'district'])\n",
    "    imputer = SimpleImputer(missing_values=np.nan, strategy='mean')\n",
    "    imputer.fit_transform(features)\n",
    "    features[:] = imputer.transform(features)\n",
    "    features = features.reset_index()"
   ]
  },
  {
   "cell_type": "code",
   "execution_count": null,
   "id": "6416e51c",
   "metadata": {},
   "outputs": [],
   "source": [
    "# from sklearn.experimental import enable_iterative_imputer\n",
    "# from sklearn.impute import IterativeImputer\n",
    "\n",
    "# impute_simple = True\n",
    "# # # impute_simple = False\n",
    "\n",
    "# # # impute_iterative = True\n",
    "# impute_iterative = False\n",
    "\n",
    "# if impute_simple:\n",
    "#     features = features.set_index(['year', 'district'])\n",
    "#     imputer = SimpleImputer(missing_values=np.nan, strategy='mean')\n",
    "#     imputer.fit_transform(features)\n",
    "#     features[:] = imputer.transform(features)\n",
    "#     features = features.reset_index()\n",
    "# elif impute_iterative:\n",
    "#     imputer = IterativeImputer(max_iter=2, random_state=0)\n",
    "#     imputer.fit_transform(features)\n",
    "#     features[:] = imputer.transform(features)\n",
    "#     features = features.reset_index()\n",
    "# else:\n",
    "#     features = features.fillna(0).reset_index()"
   ]
  },
  {
   "cell_type": "markdown",
   "id": "c51dd396",
   "metadata": {
    "tags": []
   },
   "source": [
    "### Save copy of completed data "
   ]
  },
  {
   "cell_type": "code",
   "execution_count": null,
   "id": "7d421fce",
   "metadata": {},
   "outputs": [],
   "source": [
    "features_copy = features.copy()\n",
    "features_copy['geometry'] = points.geometry"
   ]
  },
  {
   "cell_type": "markdown",
   "id": "5d7398ff",
   "metadata": {},
   "source": [
    "### Summarise to administrative boundary level\n",
    "Weighted by cropped area, or simple mean, depending on the selection at the top of this notebook for `weighted_avg`. "
   ]
  },
  {
   "cell_type": "code",
   "execution_count": null,
   "id": "664f80ed",
   "metadata": {
    "tags": []
   },
   "outputs": [],
   "source": [
    "features.columns"
   ]
  },
  {
   "cell_type": "code",
   "execution_count": null,
   "id": "310666d0",
   "metadata": {},
   "outputs": [],
   "source": [
    "var_cols = features.columns[1:-2].values.tolist()\n",
    "features.columns[1:-2]"
   ]
  },
  {
   "cell_type": "code",
   "execution_count": null,
   "id": "0b2fcd08",
   "metadata": {},
   "outputs": [],
   "source": [
    "%%time\n",
    "if weighted_avg:\n",
    "    features_summary = (\n",
    "        features\n",
    "        .groupby(['year', 'district'], as_index=False)\n",
    "        .apply(lambda x: pd.Series([sum(x[v] * x.crop_perc) / sum(x.crop_perc) for v in var_cols]))\n",
    "    )\n",
    "else:\n",
    "    features_summary = features.groupby(['district',\"year\"], as_index = False).mean()\n",
    "# features_summary"
   ]
  },
  {
   "cell_type": "markdown",
   "id": "9f1dc498",
   "metadata": {},
   "source": [
    "### Join crop data"
   ]
  },
  {
   "cell_type": "code",
   "execution_count": null,
   "id": "1e6c6650",
   "metadata": {},
   "outputs": [],
   "source": [
    "crop_df_x = crop_df[crop_df.year >= year_start + 1]\n",
    "crop_df_x = crop_df_x[~crop_df_x.index.isin(['Mafinga', 'Ikelenge'])]\n",
    "crop_df_x.reset_index(inplace=True)\n",
    "# crop_df_x"
   ]
  },
  {
   "cell_type": "code",
   "execution_count": null,
   "id": "f065da58",
   "metadata": {},
   "outputs": [],
   "source": [
    "features_summary = (\n",
    "    features_summary\n",
    "    .set_index([\"district\", \"year\"])\n",
    "    .join(other = crop_df_x.set_index([\"district\", \"year\"]))\n",
    "    .reset_index())\n",
    "# features_summary"
   ]
  },
  {
   "cell_type": "markdown",
   "id": "85e3288b",
   "metadata": {},
   "source": [
    "## Model"
   ]
  },
  {
   "cell_type": "code",
   "execution_count": null,
   "id": "fd44a432",
   "metadata": {},
   "outputs": [],
   "source": [
    "model_year = features_summary[features_summary.year.isin([\n",
    "   2014,\n",
    "   2015,\n",
    "   2016,\n",
    "   2017,\n",
    "   2018,\n",
    "])]"
   ]
  },
  {
   "cell_type": "markdown",
   "id": "8ea11764",
   "metadata": {},
   "source": [
    "### Define `x's` and `y's`"
   ]
  },
  {
   "cell_type": "code",
   "execution_count": null,
   "id": "bcc5752e",
   "metadata": {},
   "outputs": [],
   "source": [
    "x_all = model_year.drop([\n",
    "    'district', \n",
    "    'year', \n",
    "    'yield_mt',\n",
    "    \"crop_perc\"\n",
    "], axis = 1)\n",
    "\n",
    "# y_all = features_summary.yield_mt\n",
    "y_all = np.log10(model_year.yield_mt.to_numpy() + 1)"
   ]
  },
  {
   "cell_type": "markdown",
   "id": "ca312a5f",
   "metadata": {},
   "source": [
    "### Split into train and test sets"
   ]
  },
  {
   "cell_type": "code",
   "execution_count": null,
   "id": "79eb18ce",
   "metadata": {},
   "outputs": [],
   "source": [
    "x_train, x_test, y_train, y_test = train_test_split(\n",
    "    x_all, y_all, test_size=0.2, random_state=0\n",
    ")"
   ]
  },
  {
   "cell_type": "code",
   "execution_count": null,
   "id": "d5ea5f2c",
   "metadata": {},
   "outputs": [],
   "source": [
    "print(\"Total N: \", len(x_all), \"\\n\", \n",
    "      \"Train N: \", len(x_train), \"\\n\",\n",
    "      \"Test  N: \", len(x_test), sep = \"\")"
   ]
  },
  {
   "cell_type": "markdown",
   "id": "be2d84d0",
   "metadata": {},
   "source": [
    "### Train model"
   ]
  },
  {
   "cell_type": "code",
   "execution_count": null,
   "id": "cf329e3e",
   "metadata": {},
   "outputs": [],
   "source": [
    "ridge_cv_random = RidgeCV(cv=5, alphas=np.logspace(-8, 8, base=10, num=17))\n",
    "ridge_cv_random.fit(x_train, y_train)"
   ]
  },
  {
   "cell_type": "markdown",
   "id": "9c58e251",
   "metadata": {},
   "source": [
    "### Validation set $R^2$ performance"
   ]
  },
  {
   "cell_type": "code",
   "execution_count": null,
   "id": "536045c2",
   "metadata": {},
   "outputs": [],
   "source": [
    "print(f\"Validation R2 performance {ridge_cv_random.best_score_:0.2f}\")"
   ]
  },
  {
   "cell_type": "markdown",
   "id": "680ac1d1",
   "metadata": {},
   "source": [
    "### Train set"
   ]
  },
  {
   "cell_type": "code",
   "execution_count": null,
   "id": "a9fcd436",
   "metadata": {},
   "outputs": [],
   "source": [
    "y_pred = np.maximum(ridge_cv_random.predict(x_train), 0)\n",
    "\n",
    "plt.figure()\n",
    "plt.scatter(y_pred, y_train, alpha=1, s=4)\n",
    "plt.xlabel(\"Predicted\", fontsize=15, x = .3)\n",
    "plt.ylabel(\"Ground Truth\", fontsize=15)\n",
    "plt.suptitle(r\"$\\log_{10}(1 + Crop Yield)$\", fontsize=20, y=1.02)\n",
    "plt.title((f\"Model applied to train data n = {len(x_train)}, R$^2$ = {(r2_score(y_train, y_pred)):0.2f}\"),\n",
    "          fontsize=12, y=1.01)\n",
    "\n",
    "plt.xticks(fontsize=14)\n",
    "plt.yticks(fontsize=14)\n",
    "\n",
    "m, b = np.polyfit(y_pred, y_train, 1)\n",
    "plt.plot(y_pred, m * y_pred + b, color=\"black\")\n",
    "plt.gca().spines.right.set_visible(False)\n",
    "plt.gca().spines.top.set_visible(False)\n",
    "\n",
    "# plt.savefig(f'images/{feature_file_name}_train_data.jpg', dpi=300)\n",
    "plt.show()\n",
    "plt.close()"
   ]
  },
  {
   "cell_type": "code",
   "execution_count": null,
   "id": "dbbc0486",
   "metadata": {},
   "outputs": [],
   "source": [
    "print(f\"Training R^2 = {r2_score(y_train, y_pred):0.2f}\\nPearsons R = {pearsonr(y_pred, y_train)[0]:0.2f}\") "
   ]
  },
  {
   "cell_type": "markdown",
   "id": "dff83102",
   "metadata": {},
   "source": [
    "### Test set"
   ]
  },
  {
   "cell_type": "code",
   "execution_count": null,
   "id": "dcb42c16",
   "metadata": {
    "tags": []
   },
   "outputs": [],
   "source": [
    "y_pred = np.maximum(ridge_cv_random.predict(x_test), 0)\n",
    "\n",
    "plt.figure()\n",
    "plt.scatter(y_pred, y_test, alpha=1, s=4)\n",
    "plt.xlabel(\"Predicted\", fontsize=15)\n",
    "plt.ylabel(\"Ground Truth\", fontsize=15)\n",
    "plt.suptitle(r\"$\\log_{10}(1 + Crop Yield)$\", fontsize=20, y=1.02)\n",
    "plt.title(f\"Model applied to test data n = {len(x_test)}, R$^2$ = {(r2_score(y_test, y_pred)):0.2f}\",\n",
    "          fontsize=12, y=1)\n",
    "\n",
    "plt.xticks(fontsize=14)\n",
    "plt.yticks(fontsize=14)\n",
    "\n",
    "m, b = np.polyfit(y_pred, y_test, 1)\n",
    "plt.plot(y_pred, m * y_pred + b, color=\"black\")\n",
    "plt.gca().spines.right.set_visible(False)\n",
    "plt.gca().spines.top.set_visible(False)\n",
    "\n",
    "# plt.savefig(f'images/{feature_file_name}_test_data.jpg', dpi=300)\n",
    "plt.show()\n",
    "plt.close()"
   ]
  },
  {
   "cell_type": "code",
   "execution_count": null,
   "id": "a4f6268f",
   "metadata": {},
   "outputs": [],
   "source": [
    "print(f\"Testing set R^2 = {r2_score(y_test, y_pred):0.2f}\")\n",
    "print(f\"Testing set pearsons R = {pearsonr(y_pred, y_test)[0]:0.2f}\")"
   ]
  },
  {
   "cell_type": "markdown",
   "id": "5a29cb5b",
   "metadata": {},
   "source": [
    "### Plot the fitted features"
   ]
  },
  {
   "cell_type": "code",
   "execution_count": null,
   "id": "45d9c098",
   "metadata": {},
   "outputs": [],
   "source": [
    "pred_features = features_copy.copy()"
   ]
  },
  {
   "cell_type": "code",
   "execution_count": null,
   "id": "e0ad5295",
   "metadata": {},
   "outputs": [],
   "source": [
    "x_all = pred_features.drop([\n",
    "    'year', \n",
    "    'geometry',\n",
    "    'district',\n",
    "    'crop_perc'\n",
    "], axis = 1)\n",
    "pred_features['fit'] = np.maximum(ridge_cv_random.predict(x_all), 0)"
   ]
  },
  {
   "cell_type": "code",
   "execution_count": null,
   "id": "b62bd093",
   "metadata": {},
   "outputs": [],
   "source": [
    "pred_features = geopandas.GeoDataFrame(pred_features)"
   ]
  },
  {
   "cell_type": "code",
   "execution_count": null,
   "id": "3c5f8b0b",
   "metadata": {},
   "outputs": [],
   "source": [
    "pred_features['fit'].mask(pred_features['crop_perc']==0, 0, inplace=True)\n",
    "# pred_features.loc[pred_features[\"crop_perc\"] == 0, \"fit\"] = 0   ### Does same thing but differently"
   ]
  },
  {
   "cell_type": "code",
   "execution_count": null,
   "id": "b0592486",
   "metadata": {},
   "outputs": [],
   "source": [
    "# pred_features = pred_features[pred_features.crop_perc > 0].reset_index(drop = True)"
   ]
  },
  {
   "cell_type": "code",
   "execution_count": null,
   "id": "4c7dc378",
   "metadata": {},
   "outputs": [],
   "source": [
    "pred_features['fit'].mask(pred_features['fit'] > 2, 0, inplace=True)"
   ]
  },
  {
   "cell_type": "code",
   "execution_count": null,
   "id": "e7780981",
   "metadata": {},
   "outputs": [],
   "source": [
    "plot_features = pred_features[pred_features.year == 2018]\n",
    "# plot_features"
   ]
  },
  {
   "cell_type": "code",
   "execution_count": null,
   "id": "4f0f988c",
   "metadata": {},
   "outputs": [],
   "source": [
    "plot_features.plot(figsize = (10,10),\n",
    "                   marker='H',\n",
    "                   legend = True,\n",
    "                   markersize = marker_sz,\n",
    "#                    alpha = .9,\n",
    "                   column = 'fit')"
   ]
  },
  {
   "cell_type": "markdown",
   "id": "0b954ebf-1e1f-406c-8251-07d227188852",
   "metadata": {},
   "source": [
    "# Predict Crop Yields for years 2020-2021 in Zambia"
   ]
  },
  {
   "cell_type": "code",
   "execution_count": null,
   "id": "27626cdb-f382-4d35-b433-41a45009e5c5",
   "metadata": {},
   "outputs": [],
   "source": [
    "year_start_19 = 2019\n",
    "year_end_21 = 2021"
   ]
  },
  {
   "cell_type": "code",
   "execution_count": null,
   "id": "0c5bced1-8266-42ee-ba63-449f015debc5",
   "metadata": {},
   "outputs": [],
   "source": [
    "features_raw_19_21 = geopandas.GeoDataFrame()\n",
    "\n",
    "for yr in range(year_start_19, year_end_21 + 1):\n",
    "    print(f\"Opening: {feature_file_name}_{yr}.feather\")\n",
    "    features_x_20_21 = pd.read_feather(f\"{data_dir}/features/{satellite}/{feature_file_name}_{yr}.feather\")\n",
    "    \n",
    "    if (yr == 2019):\n",
    "        features_x_20_21 = features_x_20_21[features_x_20_21.month > 9]\n",
    "    else:\n",
    "        pass\n",
    "    \n",
    "    # concatenate the feather files together, axis = 0 specifies to stack rows (rather than adding columns)\n",
    "    features_raw_19_21 = pd.concat([features_raw_19_21, features_x_20_21], axis=0)\n",
    "    \n",
    "    print(\"feature.shape\", features_raw_19_21.shape)\n",
    "    print(\"Appending:\", yr)\n",
    "    print(\"\")"
   ]
  },
  {
   "cell_type": "code",
   "execution_count": null,
   "id": "61c2263d-26e5-4c13-849f-d459c1f7cdc0",
   "metadata": {},
   "outputs": [],
   "source": [
    "features_raw_19_21"
   ]
  },
  {
   "cell_type": "code",
   "execution_count": null,
   "id": "f5958a21-107d-4abd-b4b7-71f9348e1e6e",
   "metadata": {},
   "outputs": [],
   "source": [
    "features_20_21 = features_raw_19_21.copy()"
   ]
  },
  {
   "cell_type": "code",
   "execution_count": null,
   "id": "891df737-0e54-4d45-bfb0-3fac6ed2b613",
   "metadata": {},
   "outputs": [],
   "source": [
    "# carry months October, November, and December over to the following year's data\n",
    "# these months represent the start of the growing season for the following year's maize yield\n",
    "features_20_21['year'] = np.where(\n",
    "    features_20_21['month'].isin([10, 11, 12]),\n",
    "    features_20_21['year'] + 1, \n",
    "    features_20_21['year'])\n",
    "\n",
    "features_20_21 = features_20_21[features_20_21['year'] <= year_end_21]\n",
    "\n",
    "features_20_21.sort_values(['year', 'month'], inplace=True) "
   ]
  },
  {
   "cell_type": "code",
   "execution_count": null,
   "id": "d14a0cda-b9ee-4372-b24f-ffee93fb48f0",
   "metadata": {},
   "outputs": [],
   "source": [
    "features_20_21"
   ]
  },
  {
   "cell_type": "code",
   "execution_count": null,
   "id": "216748ae-c695-4fda-8e2c-f54c74df4fbb",
   "metadata": {},
   "outputs": [],
   "source": [
    "# filter month range\n",
    "#features_20_21 = features_20_21[adm_features_20_21.month.isin(month_range)]"
   ]
  },
  {
   "cell_type": "markdown",
   "id": "e422e18f-2991-4326-a4b1-3812cd94f7fa",
   "metadata": {},
   "source": [
    "### Pivot wider\n",
    "See the above **Pivot wider** chunk for explanation of this process"
   ]
  },
  {
   "cell_type": "code",
   "execution_count": null,
   "id": "18d4f454-95af-4f6d-85d6-57811b4ef0fc",
   "metadata": {},
   "outputs": [],
   "source": [
    "features_20_21 = features_20_21.set_index(['lon','lat', \"year\", 'month']).unstack()\n",
    "features_20_21.columns = features_20_21.columns.map(lambda x: '{}_{}'.format(*x))"
   ]
  },
  {
   "cell_type": "markdown",
   "id": "075d4152-c680-4769-b794-7427b339a477",
   "metadata": {},
   "source": [
    "### Replace \"inf\" values with `NaN`\n",
    "See the above **Replace \"inf\" values with `NaN`** chunk for explanation of this process"
   ]
  },
  {
   "cell_type": "code",
   "execution_count": null,
   "id": "1f81a7ac-3839-4d69-b0f3-5d0de6108521",
   "metadata": {},
   "outputs": [],
   "source": [
    "features_20_21.replace([np.inf, -np.inf], np.nan, inplace=True)\n",
    "features_20_21 = features_20_21.reset_index()\n",
    "# features_20_21"
   ]
  },
  {
   "cell_type": "markdown",
   "id": "516dda56-e187-4b1a-b2d1-6f88e4c1e5a9",
   "metadata": {},
   "source": [
    "### Attach crop weights\n",
    "See the above **Attach crop weights** chunk for explanation of this process\n",
    "\n",
    "#### Note:\n",
    "Attaching crop weights to the 20-21 data is not necessary for creating  predictions for these years at the resolution of the features within the 1 kilometer. This column is dropped later before we produce predictions. Similarly to the reasoning behind summarizing the features to the administrative boundary level, adding crop weights to this dataframe is useful if you wanted to visalize the predicitons by district."
   ]
  },
  {
   "cell_type": "code",
   "execution_count": null,
   "id": "f6c469cf-161f-4551-9990-15dbad65bff2",
   "metadata": {},
   "outputs": [],
   "source": [
    "features_20_21 = features_20_21.join(weights.set_index(['lon', 'lat']), on = ['lon', 'lat'])\n",
    "features_20_21 = features_20_21.drop([\"geometry\"], axis = 1)\n",
    "# features_20_21"
   ]
  },
  {
   "cell_type": "code",
   "execution_count": null,
   "id": "79db235e-5a44-4692-af84-6426cf49bb41",
   "metadata": {},
   "outputs": [],
   "source": [
    "features_20_21"
   ]
  },
  {
   "cell_type": "markdown",
   "id": "b6fc12a5-88e2-4ba5-af47-bd827c25a6fc",
   "metadata": {},
   "source": [
    "### Mask croppped regions"
   ]
  },
  {
   "cell_type": "code",
   "execution_count": null,
   "id": "962b630c-f949-4454-a186-7f52b3a7bc1d",
   "metadata": {},
   "outputs": [],
   "source": [
    "# any 1 km^2 cell with a crop percentage > 0 will be retained\n",
    "# the mask will not be applied if crop_mask is set to False at the top of this notebook\n",
    "if crop_mask:\n",
    "    features_20_21 = features_20_21[features_20_21.crop_perc > 0]\n",
    "else:\n",
    "    pass\n",
    "# features_20_21"
   ]
  },
  {
   "cell_type": "markdown",
   "id": "b0685505-c79a-4df1-90da-3c165aa097fc",
   "metadata": {},
   "source": [
    "### Make \"features\" a `GeoDataFrame`\n",
    "See the above **Make \"features\" a `GeoDataFrame`** chunk for explanation of this process"
   ]
  },
  {
   "cell_type": "code",
   "execution_count": null,
   "id": "c78f61ad-2dbd-4d1c-9e54-2b7e74085eac",
   "metadata": {},
   "outputs": [],
   "source": [
    "features_20_21 = geopandas.GeoDataFrame(\n",
    "    features_20_21, \n",
    "    geometry = geopandas.points_from_xy(x = features_20_21.lon, y = features_20_21.lat), \n",
    "    crs='EPSG:4326'\n",
    ")"
   ]
  },
  {
   "cell_type": "markdown",
   "id": "16ea4ec4-75c2-4d13-b925-c26bfd5115ed",
   "metadata": {},
   "source": [
    "### Plot any single feature"
   ]
  },
  {
   "cell_type": "code",
   "execution_count": null,
   "id": "1f932f54-28e8-4f14-9d05-be447249450f",
   "metadata": {},
   "outputs": [],
   "source": [
    "#mn = 9\n",
    "#yr = 2017\n",
    "#feature = 999\n",
    "\n",
    "#features[features.year == yr].plot(\n",
    "#    column = f\"{feature}_{mn}\",\n",
    "#    figsize = (10,10),\n",
    "#    marker='H',\n",
    "#    # legend = True,\n",
    "#    markersize = marker_sz,\n",
    "#)"
   ]
  },
  {
   "cell_type": "markdown",
   "id": "f7c303b4-fcbc-4ad3-9d77-fd1fb3dec94b",
   "metadata": {},
   "source": [
    "### Drop 'lat' and 'lon' columns"
   ]
  },
  {
   "cell_type": "code",
   "execution_count": null,
   "id": "d4524417-208c-42ee-a6fc-41d4410a4355",
   "metadata": {},
   "outputs": [],
   "source": [
    "features_20_21"
   ]
  },
  {
   "cell_type": "code",
   "execution_count": null,
   "id": "7e1a6abb-2819-4ff0-99fe-e0771784ee0b",
   "metadata": {},
   "outputs": [],
   "source": [
    "# Drop the redundant independent lon and lat columns now that they are in a geometry column\n",
    "features_20_21 = features_20_21.drop(['lon', 'lat'], axis = 1)"
   ]
  },
  {
   "cell_type": "code",
   "execution_count": null,
   "id": "5393f143-8e85-488e-a682-1d9c87d67d27",
   "metadata": {},
   "outputs": [],
   "source": [
    "features_20_21"
   ]
  },
  {
   "cell_type": "markdown",
   "id": "8c39c334-36d4-440a-a3f6-d0cbc9c16376",
   "metadata": {},
   "source": [
    "### Join features to country geometry\n",
    "\n",
    "#### Note:\n",
    "Adding the district to the 20-21 data is not necessary for creating feature-resolution predictions for these years. This column is dropped later before we produce predictions. Similarly to the reasoning behind summarizing the features to the administrative boundary level, adding districts to this dataframe is useful if you wanted to visalize the predicitons by district."
   ]
  },
  {
   "cell_type": "code",
   "execution_count": null,
   "id": "d1b2ba83-de64-461d-b389-509ac856f3d4",
   "metadata": {},
   "outputs": [],
   "source": [
    "features_20_21 = features_20_21.sjoin(country_shp, how = 'left', predicate = 'within')\n",
    "features_20_21"
   ]
  },
  {
   "cell_type": "code",
   "execution_count": null,
   "id": "5c4693f1-22fb-4109-8e10-6a0b56bb0e7f",
   "metadata": {},
   "outputs": [],
   "source": [
    "na = features_20_21[features_20_21.index_right.isna()]\n",
    "na.plot(figsize = (10,10), markersize = 10)"
   ]
  },
  {
   "cell_type": "code",
   "execution_count": null,
   "id": "12ad87c7-450e-426c-84da-8e351841bee0",
   "metadata": {},
   "outputs": [],
   "source": [
    "# Drop NA's from the district column (called index_right) then rename the column index_right to district\n",
    "features_20_21 = (\n",
    "    features_20_21\n",
    "    # drop NA values \n",
    "    .dropna(subset=['index_right'])\n",
    "    .rename(columns = {\"index_right\": \"district\",})\n",
    "    .reset_index(drop = True)\n",
    ")\n",
    "# make a copy of the features \n",
    "points = features_20_21.copy()\n",
    "# save the geometries as an object to join them them later to the rows\n",
    "points = features_20_21[['geometry']]\n",
    "year = features_20_21[['year']]\n",
    "# drop geometry column for 20/21 features\n",
    "features_20_21 = features_20_21.drop(['geometry'], axis = 1)\n",
    "features_20_21"
   ]
  },
  {
   "cell_type": "markdown",
   "id": "5e4ba64a-33aa-430e-80be-47f6b3df2e5b",
   "metadata": {},
   "source": [
    "### Impute missing values\n",
    "See the above **Impute missing values** chunk for explanation of this process"
   ]
  },
  {
   "cell_type": "code",
   "execution_count": null,
   "id": "0b5ca94b-fc22-4f13-bedf-a2cdde364bd0",
   "metadata": {},
   "outputs": [],
   "source": [
    "# compute the number of cells in the features dataframe, based on the amount of rows (images), months, and feature columns\n",
    "num_cells = len(features_20_21) * len(month_range) * num_features"
   ]
  },
  {
   "cell_type": "code",
   "execution_count": null,
   "id": "07fe6a60-18b9-4fc0-9e23-d88ae35e52b7",
   "metadata": {},
   "outputs": [],
   "source": [
    "%%time\n",
    "if impute_manual:\n",
    "    print(f'Starting with\\n{(features_20_21.isna().sum().sum() / num_cells)*100:.02f} % NA Values')\n",
    "    features_20_21 = (\n",
    "        features_20_21\n",
    "        .fillna(features_20_21\n",
    "                .groupby(['year', 'district'], as_index=False)\n",
    "                .transform('mean')\n",
    "               )\n",
    "    )\n",
    "    print(f'\\nFilling NA values with year district group average\\n{(features_20_21.isna().sum().sum() / num_cells)*100:.02f} % NA Values')\n",
    "    features_20_21 = (\n",
    "        features_20_21\n",
    "        .fillna(features_20_21\n",
    "                .groupby(['district'], as_index=False)\n",
    "                .transform('mean')\n",
    "               )\n",
    "    )\n",
    "    print(f'\\nFilling NA values with district group average\\n{(features_20_21.isna().sum().sum() / num_cells)*100:.02f} % NA Values')\n",
    "    features_20_21 = (\n",
    "        features_20_21\n",
    "        .fillna(features_20_21\n",
    "                .groupby(['year'], as_index=False)\n",
    "                .transform('mean')\n",
    "               )\n",
    "    )\n",
    "    print(f'\\nFilling NA values with year group average\\n{(features_20_21.isna().sum().sum() / num_cells)*100:.02f} % NA Values')\n",
    "else:\n",
    "    features_20_21 = features_20_21.set_index(['year', 'district'])\n",
    "    imputer = SimpleImputer(missing_values=np.nan, strategy='mean')\n",
    "    imputer.fit_transform(features_20_21)\n",
    "    features_20_21[:] = imputer.transform(features_20_21)\n",
    "    features_20_21 = features_20_21.reset_index()"
   ]
  },
  {
   "cell_type": "markdown",
   "id": "77ef6307-cb38-46d5-bf2b-62fa258ff79b",
   "metadata": {},
   "source": [
    "### Save copy of completed data "
   ]
  },
  {
   "cell_type": "markdown",
   "id": "e20e544b-e603-4fd5-91ce-3dbe7f6649a6",
   "metadata": {},
   "source": [
    "### **Optional for 2020 & 2021 features:** Summarise to administrative boundary level\n",
    "See the above **Summarise to administrative boundary level** chunk for explanation of this process\n",
    "\n",
    "This is optional for these features because these features are NOT going to be joined to crop data, because none is available for these years. The features for 2020 and 2021 are summarized to the administrative boundary level because that is the level of resolution of the crop data, and those features were joined with cop data to train the model. If a user is interested in sumamry statistics for the 2020-21 features, either in a table or a map, then summarizing to the administrative boundary level might be useful. Otherwise, summarizing these feature-level predicitions to the district-level is simply lowering the resolution of the data."
   ]
  },
  {
   "cell_type": "code",
   "execution_count": null,
   "id": "6d8571c4-ac30-41e3-9c47-2efc0cae63fc",
   "metadata": {},
   "outputs": [],
   "source": [
    "#features_20_21.columns"
   ]
  },
  {
   "cell_type": "code",
   "execution_count": null,
   "id": "e9e3831f-38d4-472e-94ba-34b4684d57e7",
   "metadata": {},
   "outputs": [],
   "source": [
    "#var_cols = features_20_21.columns[1:-2].values.tolist()\n",
    "#features_20_21.columns[1:-2]"
   ]
  },
  {
   "cell_type": "code",
   "execution_count": null,
   "id": "3326e2eb-a766-479e-b4ef-4f148002afea",
   "metadata": {},
   "outputs": [],
   "source": [
    "#%%time\n",
    "#if weighted_avg:\n",
    "#    features_20_21_summary = (\n",
    "#        features\n",
    "#        .groupby(['year', 'district'], as_index=False)\n",
    "#        .apply(lambda x: pd.Series([sum(x[v] * x.crop_perc) / sum(x.crop_perc) for v in var_cols]))\n",
    "#    )\n",
    "#else:\n",
    "#    features_20_21_summary = features_20_21.groupby(['district',\"year\"], as_index = False).mean()\n",
    "# features_summary"
   ]
  },
  {
   "cell_type": "markdown",
   "id": "20f581e8-8208-48b8-985f-06715b33aec8",
   "metadata": {},
   "source": [
    "## Model"
   ]
  },
  {
   "cell_type": "code",
   "execution_count": null,
   "id": "71c43dde-ad50-458e-aab3-6836aad80a03",
   "metadata": {},
   "outputs": [],
   "source": [
    "# do not need this step for the 20-21 feature data\n",
    "#model_20_21 = features_20_21[features_20_21.year.isin([\n",
    "#   2020,\n",
    "#   2021,\n",
    "#])]"
   ]
  },
  {
   "cell_type": "markdown",
   "id": "19ee1bd7-d976-492c-bae0-4981253fabe5",
   "metadata": {},
   "source": [
    "### In order to define the x's for just the years 20-21, we need to drop the same columns we dropped for the features for all years, but we do not drop the `yield_mt` column because it does not exist for these years."
   ]
  },
  {
   "cell_type": "code",
   "execution_count": null,
   "id": "027ec07f-b31c-43f8-b269-693748a160a5",
   "metadata": {},
   "outputs": [],
   "source": [
    "features_20_21"
   ]
  },
  {
   "cell_type": "code",
   "execution_count": null,
   "id": "3015ce56-8a78-40d9-9e6c-1a600ad29267",
   "metadata": {},
   "outputs": [],
   "source": [
    "# we can drop year here because each row reps 1 year due to the way we processed the data, so we dont need the col anymore, the rows already are set up that way\n",
    "x_20_21 = features_20_21.drop([\n",
    "    'district', \n",
    "    'year', \n",
    "    \"crop_perc\"\n",
    "], axis = 1)\n"
   ]
  },
  {
   "cell_type": "code",
   "execution_count": null,
   "id": "6c1da3a2-68d9-4bb1-91c0-8762a9af0f06",
   "metadata": {},
   "outputs": [],
   "source": [
    "x_20_21"
   ]
  },
  {
   "cell_type": "code",
   "execution_count": null,
   "id": "63f569e1-4cea-488e-a409-13fa1f3d973a",
   "metadata": {},
   "outputs": [],
   "source": [
    "#x_20_21_copy = x_20_21.copy"
   ]
  },
  {
   "cell_type": "code",
   "execution_count": null,
   "id": "a3cbc80e-3784-451b-a339-eee149b377a1",
   "metadata": {},
   "outputs": [],
   "source": [
    "# need to execute the ridge_cv_random within the np.maximum() function because some predictions results are negative and we need them all to be positive because conceptually crop yields cannot be negative\n",
    "pred_20_21 = np.maximum(ridge_cv_random.predict(x_20_21), 0)\n",
    "\n",
    "#len(y_pred_20_21) # length of the array y_pred_20_21 is the same as the number of rows in the feature data fed into the model\n",
    "\n",
    "pred_20_21"
   ]
  },
  {
   "cell_type": "code",
   "execution_count": null,
   "id": "bca14f8a-1683-41de-944f-d5da55e517c0",
   "metadata": {},
   "outputs": [],
   "source": [
    "type(pred_20_21)\n",
    "# it is np array"
   ]
  },
  {
   "cell_type": "code",
   "execution_count": null,
   "id": "d342f1be-2cd9-4734-aab6-78811c18b606",
   "metadata": {},
   "outputs": [],
   "source": [
    "# features_20_21_copy = features_20_21.copy()\n",
    "# features_20_21_copy['geometry'] = points.geometry\n",
    "# features_20_21_copy['year'] = year\n",
    "# # check that the geometries were properly rejoined\n",
    "# features_20_21_copy"
   ]
  },
  {
   "cell_type": "code",
   "execution_count": null,
   "id": "2d5bd204-bfb0-48fb-a4b1-1ed335fcb6de",
   "metadata": {},
   "outputs": [],
   "source": [
    "# convert the predictions from an array into a gdf so we can re-join the points and year variables to plot \n",
    "pred_20_21_gdf = geopandas.GeoDataFrame(pred_20_21)\n",
    "pred_20_21_gdf"
   ]
  },
  {
   "cell_type": "code",
   "execution_count": null,
   "id": "6a3242c8-65e7-40d1-b742-bf14e5f1fb42",
   "metadata": {},
   "outputs": [],
   "source": [
    "# rename column for predictions just for clarity, this duplicates the column 0 so we need to drop in the next step\n",
    "pred_20_21_gdf['pred_yields'] = pred_20_21_gdf[0]\n",
    "pred_20_21_gdf"
   ]
  },
  {
   "cell_type": "code",
   "execution_count": null,
   "id": "7f029b5d-eb58-4640-86c4-e6aecab03fc5",
   "metadata": {},
   "outputs": [],
   "source": [
    "# drop one duplicated column, the one with the non-descriptive name\n",
    "pred_20_21_gdf = pred_20_21_gdf.drop([0], axis = 1)\n",
    "pred_20_21_gdf"
   ]
  },
  {
   "cell_type": "code",
   "execution_count": null,
   "id": "60233627-7660-41a7-bf6e-1d9c15a7bd76",
   "metadata": {},
   "outputs": [],
   "source": [
    "# rejoin the points geometry and year columns so we can plot both years independently\n",
    "pred_20_21_gdf_copy = pred_20_21_gdf.copy()\n",
    "pred_20_21_gdf_copy['geometry'] = points.geometry\n",
    "pred_20_21_gdf_copy['year'] = year\n",
    "# check that the geometries were properly rejoined\n",
    "pred_20_21_gdf_copy"
   ]
  },
  {
   "cell_type": "markdown",
   "id": "d3e5a23a-3b48-4b92-a484-f43a31d4e8e6",
   "metadata": {},
   "source": [
    "## Plot Predicted Crop Yields by Year"
   ]
  },
  {
   "cell_type": "code",
   "execution_count": null,
   "id": "0d3bbd60-5a91-4486-bb36-bf13824871ce",
   "metadata": {},
   "outputs": [],
   "source": [
    "# separate the data by year\n",
    "pred_yield_20 = pred_20_21_gdf_copy[pred_20_21_gdf_copy.year == 2020]\n",
    "pred_yield_21 = pred_20_21_gdf_copy[pred_20_21_gdf_copy.year == 2021]"
   ]
  },
  {
   "cell_type": "code",
   "execution_count": null,
   "id": "2a7efe90-91b7-492a-823e-97e739e9b124",
   "metadata": {},
   "outputs": [],
   "source": [
    "# plot 2020 crop predicitons\n",
    "pred_yield_20.plot(figsize= (15,15),\n",
    "                  marker = 'H',\n",
    "                  legend = True,\n",
    "                  markersize = 20,\n",
    "                  column = \"pred_yields\")"
   ]
  },
  {
   "cell_type": "code",
   "execution_count": null,
   "id": "db03c552-f2b2-4f94-aad1-e25065c3bd0e",
   "metadata": {},
   "outputs": [],
   "source": [
    "# plot 2021 predictions \n",
    "pred_yield_21.plot(figsize= (15,15),\n",
    "                  marker = 'H',\n",
    "                  legend = True,\n",
    "                  markersize = 20,\n",
    "                  column = \"pred_yields\")"
   ]
  },
  {
   "cell_type": "markdown",
   "id": "8c4b2320",
   "metadata": {},
   "source": [
    "## Yield and Residual Plots\n",
    "### Create data frame "
   ]
  },
  {
   "cell_type": "markdown",
   "id": "460b79e9-7d3b-4d45-b044-4e89f5df5659",
   "metadata": {},
   "source": [
    "## Need to adjust next chunks to do stats on each year df independently"
   ]
  },
  {
   "cell_type": "code",
   "execution_count": null,
   "id": "aa3d36f9",
   "metadata": {},
   "outputs": [],
   "source": [
    "x_all = features_20_21.drop([\n",
    "    'district', \n",
    "    'year', \n",
    "    'yield_mt',\n",
    "    'crop_perc'\n",
    "], axis = 1)\n",
    "\n",
    "residual_df = pd.DataFrame()\n",
    "\n",
    "residual_df[\"yield_mt\"] = features_summary.yield_mt.to_numpy()\n",
    "residual_df[\"log_yield\"] = np.log10(features_summary.yield_mt.to_numpy() + 1)\n",
    "residual_df[\"prediction\"] = np.maximum(ridge_cv_random.predict(x_all), 0)\n",
    "residual_df[\"residual\"] = residual_df[\"log_yield\"] - residual_df[\"prediction\"]\n",
    "residual_df[\"year\"] = features_summary.year\n",
    "residual_df[\"district\"] = features_summary.district\n",
    "residual_df = residual_df.join(country_shp, how = \"left\", on = \"district\")\n",
    "#demean by location\n",
    "residual_df[\"district_yield_mean\"] = residual_df.groupby('district')['log_yield'].transform('mean')\n",
    "residual_df[\"district_prediction_mean\"] = residual_df.groupby('district')['prediction'].transform('mean')\n",
    "residual_df[\"demean_yield\"] = residual_df[\"log_yield\"] - residual_df[\"district_yield_mean\"]\n",
    "residual_df[\"demean_prediction\"] = residual_df[\"prediction\"] - residual_df[\"district_prediction_mean\"]\n",
    "residual_gdf = geopandas.GeoDataFrame(residual_df)\n",
    "# residual_gdf"
   ]
  },
  {
   "cell_type": "markdown",
   "id": "f2f135fc",
   "metadata": {},
   "source": [
    "### Crop yield histogram"
   ]
  },
  {
   "cell_type": "code",
   "execution_count": null,
   "id": "f8ce9cd3",
   "metadata": {},
   "outputs": [],
   "source": [
    "g = sns.FacetGrid(\n",
    "    residual_gdf, \n",
    "    col=\"year\", \n",
    "#     col_wrap = 3, \n",
    "    height=4, \n",
    "    aspect=1\n",
    ")\n",
    "g.map(sns.histplot, \"yield_mt\", bins = 20)\n",
    "g.set_axis_labels(\"Yield (MT)\")"
   ]
  },
  {
   "cell_type": "markdown",
   "id": "326e79fc",
   "metadata": {},
   "source": [
    "### Log transform crop yield histogram"
   ]
  },
  {
   "cell_type": "code",
   "execution_count": null,
   "id": "50970cca",
   "metadata": {},
   "outputs": [],
   "source": [
    "g = sns.FacetGrid(\n",
    "    residual_gdf, \n",
    "    col=\"year\", \n",
    "#     col_wrap = 3, \n",
    "    height=4, \n",
    "    aspect=1\n",
    ")\n",
    "g.map(sns.histplot, \"log_yield\", bins = 20)\n",
    "g.set_axis_labels(r\"$\\log_{10}(1 + Crop Yield)$\")"
   ]
  },
  {
   "cell_type": "markdown",
   "id": "f46e9988",
   "metadata": {},
   "source": [
    "### Crop prediction histogram"
   ]
  },
  {
   "cell_type": "code",
   "execution_count": null,
   "id": "df31d4ad",
   "metadata": {},
   "outputs": [],
   "source": [
    "g = sns.FacetGrid(\n",
    "    residual_gdf, \n",
    "    col=\"year\", \n",
    "#     col_wrap = 3, \n",
    "    height=4, \n",
    "    aspect=1\n",
    ")\n",
    "g.map(sns.histplot, \"prediction\", bins = 20)\n",
    "g.set_axis_labels(r\"Crop yield predictions\")"
   ]
  },
  {
   "cell_type": "markdown",
   "id": "fdff1e51",
   "metadata": {},
   "source": [
    "### Residual histogram"
   ]
  },
  {
   "cell_type": "code",
   "execution_count": null,
   "id": "85090f97",
   "metadata": {},
   "outputs": [],
   "source": [
    "g = sns.FacetGrid(\n",
    "    residual_gdf, \n",
    "    col=\"year\", \n",
    "#     col_wrap = 3, \n",
    "    height=4, \n",
    "    aspect=1\n",
    ")\n",
    "g.map(sns.histplot, \"residual\", bins = 20)\n",
    "g.set_axis_labels(r\"Residuals\")"
   ]
  },
  {
   "cell_type": "code",
   "execution_count": null,
   "id": "1998e15a",
   "metadata": {},
   "outputs": [],
   "source": [
    "residual_gdf.residual.min()"
   ]
  },
  {
   "cell_type": "code",
   "execution_count": null,
   "id": "23318687",
   "metadata": {},
   "outputs": [],
   "source": [
    "residual_gdf.residual.max()"
   ]
  },
  {
   "cell_type": "markdown",
   "id": "28d523df",
   "metadata": {},
   "source": [
    "### Log crop yield vs residuals"
   ]
  },
  {
   "cell_type": "code",
   "execution_count": null,
   "id": "e35ecd6f",
   "metadata": {},
   "outputs": [],
   "source": [
    "g = sns.FacetGrid(\n",
    "    residual_gdf, \n",
    "    col=\"year\", \n",
    "#     col_wrap = 3, \n",
    "    height=4, \n",
    "    aspect=1\n",
    ")\n",
    "g.map(sns.scatterplot, \"log_yield\", \"residual\")\n",
    "g.set_axis_labels(r\"$\\log_{10}(1 + Crop Yield)$\")"
   ]
  },
  {
   "cell_type": "markdown",
   "id": "6d96e382",
   "metadata": {},
   "source": [
    "### District residuals"
   ]
  },
  {
   "cell_type": "code",
   "execution_count": null,
   "id": "83b750cb",
   "metadata": {},
   "outputs": [],
   "source": [
    "if satellite == 'landsat-8-c2-l2':\n",
    "    fig, (ax1,ax2) = plt.subplots(nrows=1, ncols=2, figsize=(13, 5))\n",
    "    ax1 = (residual_gdf[residual_gdf.year == 2014]\n",
    "           .plot(ax = ax1, column = \"residual\", legend = True, norm=colors.Normalize(vmin= -0.4, vmax=0.4), cmap = \"BrBG\")\n",
    "           .set_title(\"2014 Residuals\"))\n",
    "    ax2 = (residual_gdf[residual_gdf.year == 2015]\n",
    "           .plot(ax = ax2, column = \"residual\", legend = True, norm=colors.Normalize(vmin= -0.4, vmax=0.4), cmap = \"BrBG\")\n",
    "           .set_title(\"2015 Residuals\"))\n",
    "else:\n",
    "    pass\n",
    "fig, (ax1,ax2,ax3) = plt.subplots(nrows=1, ncols=3, figsize=(20, 5))\n",
    "ax1 = (residual_gdf[residual_gdf.year == 2016]\n",
    "       .plot(ax = ax1, column = \"residual\", legend = True, norm=colors.Normalize(vmin= -0.4, vmax=0.4), cmap = \"BrBG\")\n",
    "       .set_title(\"2016 Residuals\"))\n",
    "ax2 = (residual_gdf[residual_gdf.year == 2017]\n",
    "       .plot(ax = ax2, column = \"residual\", legend = True, norm=colors.Normalize(vmin= -0.4, vmax=0.4), cmap = \"BrBG\")\n",
    "       .set_title(\"2017 Residuals\"))\n",
    "ax3 = (residual_gdf[residual_gdf.year == 2018]\n",
    "       .plot(ax = ax3, column = \"residual\", legend = True, norm=colors.Normalize(vmin= -0.4, vmax=0.4), cmap = \"BrBG\")\n",
    "       .set_title(\"2018 Residuals\"))\n",
    "\n",
    "caption = \"A positive value is an underestimated prediction (the prediction is lower than the actual yield), a negative value is an over estimated prediction\"\n",
    "plt.figtext(0.5, 0.01, caption, wrap=True, horizontalalignment='center', fontsize=12)"
   ]
  },
  {
   "cell_type": "markdown",
   "id": "25ddf373",
   "metadata": {
    "tags": []
   },
   "source": [
    "### Difference from the Mean"
   ]
  },
  {
   "cell_type": "code",
   "execution_count": null,
   "id": "27bca65b",
   "metadata": {},
   "outputs": [],
   "source": [
    "g = sns.FacetGrid(\n",
    "    residual_gdf, \n",
    "    col=\"year\", \n",
    "#     col_wrap = 3, \n",
    "    height=4, \n",
    "    aspect=1\n",
    ")\n",
    "g.map(sns.scatterplot, \"demean_yield\", \"demean_prediction\")\n",
    "g.set_axis_labels('Difference from Yield Mean', 'Difference from Prediction Mean')"
   ]
  },
  {
   "cell_type": "code",
   "execution_count": null,
   "id": "a78a8ff6",
   "metadata": {},
   "outputs": [],
   "source": [
    "plt.scatter(residual_gdf.demean_yield, residual_gdf.demean_prediction)\n",
    "plt.title(\"Demeaned truth and predictions by district\")\n",
    "plt.xlabel('Difference from Yield Mean')\n",
    "plt.ylabel('Difference from Predictions Mean')"
   ]
  },
  {
   "cell_type": "code",
   "execution_count": null,
   "id": "6acc3fd5",
   "metadata": {},
   "outputs": [],
   "source": [
    "for yr in range(year_start+1, year_end+1):\n",
    "    r_squared = r2_score(residual_gdf[residual_gdf.year == yr][\"demean_yield\"], residual_gdf[residual_gdf.year == yr][\"demean_prediction\"])\n",
    "    pearson_r = pearsonr(residual_gdf[residual_gdf.year == yr][\"demean_yield\"], residual_gdf[residual_gdf.year == yr][\"demean_prediction\"])\n",
    "    \n",
    "    print(yr, f\"    R^2: {r_squared:.2f}\\n\",\n",
    "          f\"Pearson's R: {pearson_r[0]:.2f}\\n\", \n",
    "          sep = \"\")\n",
    "    \n",
    "r_squared = r2_score(residual_gdf[\"demean_yield\"], residual_gdf[\"demean_prediction\"])\n",
    "pearson_r = pearsonr(residual_gdf[\"demean_yield\"], residual_gdf[\"demean_prediction\"])\n",
    "print(f\"All     R^2: {r_squared:.2f}\\n\",\n",
    "      f\"Pearson's R: {pearson_r[0]:.2f}\", sep = \"\")"
   ]
  },
  {
   "cell_type": "code",
   "execution_count": null,
   "id": "9664c348",
   "metadata": {
    "tags": []
   },
   "outputs": [],
   "source": []
  },
  {
   "cell_type": "code",
   "execution_count": null,
   "id": "2b22d9f7-db36-408e-8e38-753ee35542ef",
   "metadata": {},
   "outputs": [],
   "source": []
  }
 ],
 "metadata": {
  "kernelspec": {
   "display_name": "Python 3 (ipykernel)",
   "language": "python",
   "name": "python3"
  },
  "language_info": {
   "codemirror_mode": {
    "name": "ipython",
    "version": 3
   },
   "file_extension": ".py",
   "mimetype": "text/x-python",
   "name": "python",
   "nbconvert_exporter": "python",
   "pygments_lexer": "ipython3",
   "version": "3.7.7"
  }
 },
 "nbformat": 4,
 "nbformat_minor": 5
}
